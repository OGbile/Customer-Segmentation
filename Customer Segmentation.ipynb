{
 "cells": [
  {
   "cell_type": "code",
   "execution_count": 4,
   "metadata": {},
   "outputs": [],
   "source": [
    "#import relevant libraries and set up nicely\n",
    "from urllib.request import urlretrieve\n",
    "import pandas as pd\n",
    "import matplotlib.pyplot as plt\n",
    "import seaborn as sns\n",
    "plt.rcParams[\"figure.figsize\"] = (15,7)\n",
    "plt.style.use('ggplot')\n"
   ]
  },
  {
   "cell_type": "code",
   "execution_count": 5,
   "metadata": {},
   "outputs": [
    {
     "data": {
      "text/html": [
       "<div>\n",
       "<style scoped>\n",
       "    .dataframe tbody tr th:only-of-type {\n",
       "        vertical-align: middle;\n",
       "    }\n",
       "\n",
       "    .dataframe tbody tr th {\n",
       "        vertical-align: top;\n",
       "    }\n",
       "\n",
       "    .dataframe thead th {\n",
       "        text-align: right;\n",
       "    }\n",
       "</style>\n",
       "<table border=\"1\" class=\"dataframe\">\n",
       "  <thead>\n",
       "    <tr style=\"text-align: right;\">\n",
       "      <th></th>\n",
       "      <th>sex</th>\n",
       "      <th>age</th>\n",
       "      <th>country</th>\n",
       "      <th>returning</th>\n",
       "      <th>GImg1</th>\n",
       "      <th>GImg2</th>\n",
       "      <th>GImg3</th>\n",
       "      <th>PImg1</th>\n",
       "      <th>PImg2</th>\n",
       "      <th>PImg3</th>\n",
       "      <th>...</th>\n",
       "      <th>Authoritative -anarchic</th>\n",
       "      <th>Hostile - friendly</th>\n",
       "      <th>TAudio1</th>\n",
       "      <th>TAudio2</th>\n",
       "      <th>TAudio3</th>\n",
       "      <th>QAudio1</th>\n",
       "      <th>QAudio2</th>\n",
       "      <th>QAudio3</th>\n",
       "      <th>Proxemics</th>\n",
       "      <th>Type of Client</th>\n",
       "    </tr>\n",
       "  </thead>\n",
       "  <tbody>\n",
       "    <tr>\n",
       "      <th>0</th>\n",
       "      <td>F</td>\n",
       "      <td>42</td>\n",
       "      <td>uruguay</td>\n",
       "      <td>no</td>\n",
       "      <td>likes</td>\n",
       "      <td>indiferent</td>\n",
       "      <td>indiferent</td>\n",
       "      <td>likes</td>\n",
       "      <td>likes</td>\n",
       "      <td>indiferent</td>\n",
       "      <td>...</td>\n",
       "      <td>8</td>\n",
       "      <td>3</td>\n",
       "      <td>C</td>\n",
       "      <td>dislikes</td>\n",
       "      <td>dislikes</td>\n",
       "      <td>indiferent</td>\n",
       "      <td>dislikes</td>\n",
       "      <td>dislikes</td>\n",
       "      <td>dislikes</td>\n",
       "      <td>0</td>\n",
       "    </tr>\n",
       "    <tr>\n",
       "      <th>1</th>\n",
       "      <td>M</td>\n",
       "      <td>60</td>\n",
       "      <td>brasil</td>\n",
       "      <td>no</td>\n",
       "      <td>likes</td>\n",
       "      <td>indiferent</td>\n",
       "      <td>indiferent</td>\n",
       "      <td>likes</td>\n",
       "      <td>likes</td>\n",
       "      <td>likes</td>\n",
       "      <td>...</td>\n",
       "      <td>9</td>\n",
       "      <td>1</td>\n",
       "      <td>B</td>\n",
       "      <td>dislikes</td>\n",
       "      <td>dislikes</td>\n",
       "      <td>likes</td>\n",
       "      <td>likes</td>\n",
       "      <td>dislikes</td>\n",
       "      <td>dislikes</td>\n",
       "      <td>0</td>\n",
       "    </tr>\n",
       "  </tbody>\n",
       "</table>\n",
       "<p>2 rows × 23 columns</p>\n",
       "</div>"
      ],
      "text/plain": [
       "  sex  age  country returning  GImg1       GImg2       GImg3  PImg1  PImg2  \\\n",
       "0   F   42  uruguay        no  likes  indiferent  indiferent  likes  likes   \n",
       "1   M   60   brasil        no  likes  indiferent  indiferent  likes  likes   \n",
       "\n",
       "        PImg3  ... Authoritative -anarchic  Hostile - friendly  TAudio1  \\\n",
       "0  indiferent  ...                        8                  3        C   \n",
       "1       likes  ...                        9                  1        B   \n",
       "\n",
       "    TAudio2   TAudio3     QAudio1   QAudio2   QAudio3 Proxemics Type of Client  \n",
       "0  dislikes  dislikes  indiferent  dislikes  dislikes  dislikes              0  \n",
       "1  dislikes  dislikes       likes     likes  dislikes  dislikes              0  \n",
       "\n",
       "[2 rows x 23 columns]"
      ]
     },
     "execution_count": 5,
     "metadata": {},
     "output_type": "execute_result"
    }
   ],
   "source": [
    "#Get the data from UCI\n",
    "url = 'https://archive.ics.uci.edu/ml/machine-learning-databases/00620/non-verbal%20tourist%20data.csv'\n",
    "urlretrieve(url, 'non-verbal%20tourist%20data.csv')\n",
    "df = pd.read_csv(url, sep =',')\n",
    "df.head(2)"
   ]
  },
  {
   "cell_type": "code",
   "execution_count": 6,
   "metadata": {},
   "outputs": [],
   "source": [
    "# Drop type of client as this is the result of the clustering\n",
    "df.drop(labels = 'Type of Client', axis = 1, inplace = True)"
   ]
  },
  {
   "cell_type": "code",
   "execution_count": 7,
   "metadata": {},
   "outputs": [],
   "source": [
    "# Change all non numeric datatypes to objects\n",
    "df[['Hostile - friendly', 'Tense - relaxed']] = df[['Tense - relaxed', 'Hostile - friendly']].astype('object')"
   ]
  },
  {
   "cell_type": "code",
   "execution_count": 8,
   "metadata": {},
   "outputs": [],
   "source": [
    "# Cleaning up weird things like '?'bor numbers that appear in categorical features\n",
    "df['GImg3'].replace('?', 'likes', inplace = True)\n",
    "df['PImg5'].replace('?', 'dislikes', inplace = True)\n",
    "df['Authoritative -anarchic '].replace('?', '1', inplace = True)"
   ]
  },
  {
   "cell_type": "markdown",
   "metadata": {},
   "source": [
    "A little bit of EDA to catch anything interesting"
   ]
  },
  {
   "cell_type": "code",
   "execution_count": 9,
   "metadata": {},
   "outputs": [
    {
     "data": {
      "text/html": [
       "<div>\n",
       "<style scoped>\n",
       "    .dataframe tbody tr th:only-of-type {\n",
       "        vertical-align: middle;\n",
       "    }\n",
       "\n",
       "    .dataframe tbody tr th {\n",
       "        vertical-align: top;\n",
       "    }\n",
       "\n",
       "    .dataframe thead th {\n",
       "        text-align: right;\n",
       "    }\n",
       "</style>\n",
       "<table border=\"1\" class=\"dataframe\">\n",
       "  <thead>\n",
       "    <tr style=\"text-align: right;\">\n",
       "      <th></th>\n",
       "      <th>age</th>\n",
       "    </tr>\n",
       "  </thead>\n",
       "  <tbody>\n",
       "    <tr>\n",
       "      <th>count</th>\n",
       "      <td>73.000000</td>\n",
       "    </tr>\n",
       "    <tr>\n",
       "      <th>mean</th>\n",
       "      <td>47.260274</td>\n",
       "    </tr>\n",
       "    <tr>\n",
       "      <th>std</th>\n",
       "      <td>15.115323</td>\n",
       "    </tr>\n",
       "    <tr>\n",
       "      <th>min</th>\n",
       "      <td>24.000000</td>\n",
       "    </tr>\n",
       "    <tr>\n",
       "      <th>25%</th>\n",
       "      <td>36.000000</td>\n",
       "    </tr>\n",
       "    <tr>\n",
       "      <th>50%</th>\n",
       "      <td>47.000000</td>\n",
       "    </tr>\n",
       "    <tr>\n",
       "      <th>75%</th>\n",
       "      <td>56.000000</td>\n",
       "    </tr>\n",
       "    <tr>\n",
       "      <th>max</th>\n",
       "      <td>81.000000</td>\n",
       "    </tr>\n",
       "  </tbody>\n",
       "</table>\n",
       "</div>"
      ],
      "text/plain": [
       "             age\n",
       "count  73.000000\n",
       "mean   47.260274\n",
       "std    15.115323\n",
       "min    24.000000\n",
       "25%    36.000000\n",
       "50%    47.000000\n",
       "75%    56.000000\n",
       "max    81.000000"
      ]
     },
     "execution_count": 9,
     "metadata": {},
     "output_type": "execute_result"
    }
   ],
   "source": [
    "df.describe()"
   ]
  },
  {
   "cell_type": "markdown",
   "metadata": {},
   "source": [
    "Of the 73 respondents, the youngest is 24 and the oldest is 81. The average customer in this survey is 47 years old. Roughly 75% of the people who participated are about 56 years old"
   ]
  },
  {
   "cell_type": "code",
   "execution_count": 10,
   "metadata": {},
   "outputs": [
    {
     "data": {
      "text/plain": [
       "(array([ 0,  1,  2,  3,  4,  5,  6,  7,  8,  9, 10, 11, 12, 13, 14, 15]),\n",
       " [Text(0, 0, 'england'),\n",
       "  Text(1, 0, 'canada'),\n",
       "  Text(2, 0, 'germany'),\n",
       "  Text(3, 0, 'argentina'),\n",
       "  Text(4, 0, 'polish'),\n",
       "  Text(5, 0, 'scotland'),\n",
       "  Text(6, 0, 'italy'),\n",
       "  Text(7, 0, 'russia'),\n",
       "  Text(8, 0, 'spain'),\n",
       "  Text(9, 0, 'hungary'),\n",
       "  Text(10, 0, 'uruguay'),\n",
       "  Text(11, 0, 'brasil'),\n",
       "  Text(12, 0, 'colombia'),\n",
       "  Text(13, 0, 'chile'),\n",
       "  Text(14, 0, 'cuba'),\n",
       "  Text(15, 0, 'mexico')])"
      ]
     },
     "execution_count": 10,
     "metadata": {},
     "output_type": "execute_result"
    },
    {
     "data": {
      "image/png": "[encoded data removed]",
      "text/plain": [
       "<Figure size 1440x504 with 1 Axes>"
      ]
     },
     "metadata": {},
     "output_type": "display_data"
    }
   ],
   "source": [
    "plt.figure(figsize=(20, 7))\n",
    "df['country'].value_counts().plot(kind = 'bar',)\n",
    "plt.xticks(rotation =0, fontweight = 'bold', fontsize = 13)\n"
   ]
  },
  {
   "cell_type": "markdown",
   "metadata": {},
   "source": [
    "More people from England and Canada participated in the survey"
   ]
  },
  {
   "cell_type": "code",
   "execution_count": 11,
   "metadata": {},
   "outputs": [
    {
     "data": {
      "text/plain": [
       "(array([11.,  6., 13.,  6.,  8., 14.,  4.,  5.,  1.,  5.]),\n",
       " array([24. , 29.7, 35.4, 41.1, 46.8, 52.5, 58.2, 63.9, 69.6, 75.3, 81. ]),\n",
       " <BarContainer object of 10 artists>)"
      ]
     },
     "execution_count": 11,
     "metadata": {},
     "output_type": "execute_result"
    },
    {
     "data": {
      "image/png": "[encoded data removed]",
      "text/plain": [
       "<Figure size 1080x504 with 1 Axes>"
      ]
     },
     "metadata": {},
     "output_type": "display_data"
    }
   ],
   "source": [
    "plt.hist('age', data = df) "
   ]
  },
  {
   "cell_type": "code",
   "execution_count": 12,
   "metadata": {},
   "outputs": [
    {
     "data": {
      "text/plain": [
       "(array([0, 1]), [Text(0, 0, 'F'), Text(1, 0, 'M')])"
      ]
     },
     "execution_count": 12,
     "metadata": {},
     "output_type": "execute_result"
    },
    {
     "data": {
      "image/png": "[encoded data removed]",
      "text/plain": [
       "<Figure size 1080x504 with 1 Axes>"
      ]
     },
     "metadata": {},
     "output_type": "display_data"
    }
   ],
   "source": [
    "df['sex'].value_counts().plot(kind ='bar', color ='purple')\n",
    "plt.xticks(rotation =0, fontsize=14,fontweight='bold' )"
   ]
  },
  {
   "cell_type": "code",
   "execution_count": 13,
   "metadata": {},
   "outputs": [
    {
     "data": {
      "text/plain": [
       "(array([0, 1, 2]),\n",
       " [Text(0, 0, 'likes'), Text(1, 0, 'indiferent'), Text(2, 0, 'dislikes')])"
      ]
     },
     "execution_count": 13,
     "metadata": {},
     "output_type": "execute_result"
    },
    {
     "data": {
      "image/png": "[encoded data removed]",
      "text/plain": [
       "<Figure size 1080x504 with 1 Axes>"
      ]
     },
     "metadata": {},
     "output_type": "display_data"
    }
   ],
   "source": [
    "df['GImg1'].value_counts().plot(kind= 'bar')\n",
    "plt.xlabel(\"\\n Customers Attitudes to Hugs\", fontsize=14,fontweight='bold')\n",
    "plt.xticks(rotation = 0, fontsize=14,fontweight='bold')"
   ]
  },
  {
   "cell_type": "markdown",
   "metadata": {},
   "source": [
    "Now that EDA is done, the main task- identifying different types of customers in the data using patterns aka customer segmentation\n",
    "###### The data has no label thus, this is a clustering and not a classification task. Clustering simply put is placing items with similar characteristics into buckets."
   ]
  },
  {
   "cell_type": "code",
   "execution_count": 14,
   "metadata": {},
   "outputs": [],
   "source": [
    "from scipy.cluster.hierarchy import linkage, fcluster\n",
    "from kmodes.kprototypes import KPrototypes"
   ]
  },
  {
   "cell_type": "code",
   "execution_count": 15,
   "metadata": {},
   "outputs": [],
   "source": [
    "#create an array of the features\n",
    "df_array = df.values"
   ]
  },
  {
   "cell_type": "code",
   "execution_count": 17,
   "metadata": {},
   "outputs": [
    {
     "name": "stdout",
     "output_type": "stream",
     "text": [
      "Initialization method and algorithm are deterministic. Setting n_init to 1.\n",
      "Init: initializing centroids\n",
      "Init: initializing clusters\n",
      "Starting iterations...\n",
      "Run: 1, iteration: 1/20, moves: 4, ncost: 5786.685246999023\n",
      "Run: 1, iteration: 2/20, moves: 3, ncost: 5717.995415849546\n",
      "Run: 1, iteration: 3/20, moves: 2, ncost: 5659.859245125419\n",
      "Run: 1, iteration: 4/20, moves: 8, ncost: 5315.639556234807\n",
      "Run: 1, iteration: 5/20, moves: 6, ncost: 5145.330083638017\n",
      "Run: 1, iteration: 6/20, moves: 5, ncost: 5029.336493173271\n",
      "Run: 1, iteration: 7/20, moves: 1, ncost: 5025.349519489061\n",
      "Run: 1, iteration: 8/20, moves: 0, ncost: 5025.349519489061\n",
      "Init: initializing centroids\n",
      "Init: initializing clusters\n",
      "Starting iterations...\n",
      "Run: 2, iteration: 1/20, moves: 12, ncost: 5319.736699387427\n",
      "Run: 2, iteration: 2/20, moves: 7, ncost: 4986.769983760878\n",
      "Run: 2, iteration: 3/20, moves: 2, ncost: 4962.0187586896545\n",
      "Run: 2, iteration: 4/20, moves: 0, ncost: 4962.0187586896545\n",
      "Init: initializing centroids\n",
      "Init: initializing clusters\n",
      "Starting iterations...\n",
      "Run: 3, iteration: 1/20, moves: 8, ncost: 4995.608550300429\n",
      "Run: 3, iteration: 2/20, moves: 4, ncost: 4946.73896652263\n",
      "Run: 3, iteration: 3/20, moves: 0, ncost: 4946.73896652263\n",
      "Init: initializing centroids\n",
      "Init: initializing clusters\n",
      "Starting iterations...\n",
      "Run: 4, iteration: 1/20, moves: 26, ncost: 5203.484025647973\n",
      "Run: 4, iteration: 2/20, moves: 8, ncost: 4990.434189895066\n",
      "Run: 4, iteration: 3/20, moves: 3, ncost: 4962.018758689653\n",
      "Run: 4, iteration: 4/20, moves: 0, ncost: 4962.018758689653\n",
      "Init: initializing centroids\n",
      "Init: initializing clusters\n",
      "Starting iterations...\n",
      "Run: 5, iteration: 1/20, moves: 14, ncost: 5948.431270430192\n",
      "Run: 5, iteration: 2/20, moves: 10, ncost: 5313.310510286427\n",
      "Run: 5, iteration: 3/20, moves: 9, ncost: 4990.434189895067\n",
      "Run: 5, iteration: 4/20, moves: 3, ncost: 4962.018758689654\n",
      "Run: 5, iteration: 5/20, moves: 0, ncost: 4962.018758689654\n",
      "Init: initializing centroids\n",
      "Init: initializing clusters\n",
      "Starting iterations...\n",
      "Run: 6, iteration: 1/20, moves: 17, ncost: 6117.726480216258\n",
      "Run: 6, iteration: 2/20, moves: 10, ncost: 5719.360734945858\n",
      "Run: 6, iteration: 3/20, moves: 8, ncost: 5259.011143831873\n",
      "Run: 6, iteration: 4/20, moves: 6, ncost: 4986.769983760878\n",
      "Run: 6, iteration: 5/20, moves: 2, ncost: 4962.0187586896545\n",
      "Run: 6, iteration: 6/20, moves: 0, ncost: 4962.0187586896545\n",
      "Init: initializing centroids\n",
      "Init: initializing clusters\n",
      "Starting iterations...\n",
      "Run: 7, iteration: 1/20, moves: 24, ncost: 5247.984874894019\n",
      "Run: 7, iteration: 2/20, moves: 8, ncost: 4975.396766889566\n",
      "Run: 7, iteration: 3/20, moves: 2, ncost: 4962.29044005972\n",
      "Run: 7, iteration: 4/20, moves: 0, ncost: 4962.29044005972\n",
      "Init: initializing centroids\n",
      "Init: initializing clusters\n",
      "Starting iterations...\n",
      "Run: 8, iteration: 1/20, moves: 13, ncost: 5137.047005434672\n",
      "Run: 8, iteration: 2/20, moves: 3, ncost: 5105.693077276683\n",
      "Run: 8, iteration: 3/20, moves: 0, ncost: 5105.693077276683\n",
      "Init: initializing centroids\n",
      "Init: initializing clusters\n",
      "Starting iterations...\n",
      "Run: 9, iteration: 1/20, moves: 7, ncost: 5038.681619639744\n",
      "Run: 9, iteration: 2/20, moves: 0, ncost: 5038.681619639744\n",
      "Init: initializing centroids\n",
      "Init: initializing clusters\n",
      "Init: initializing centroids\n",
      "Init: initializing clusters\n",
      "Starting iterations...\n",
      "Run: 10, iteration: 1/20, moves: 7, ncost: 6256.382507626767\n",
      "Run: 10, iteration: 2/20, moves: 8, ncost: 5944.345441991079\n",
      "Run: 10, iteration: 3/20, moves: 10, ncost: 5210.311131019311\n",
      "Run: 10, iteration: 4/20, moves: 6, ncost: 4990.434189895068\n",
      "Run: 10, iteration: 5/20, moves: 3, ncost: 4962.0187586896545\n",
      "Run: 10, iteration: 6/20, moves: 0, ncost: 4962.0187586896545\n",
      "Best run was number 3\n"
     ]
    }
   ],
   "source": [
    "#use the clustering algorithim on the categorical fields\n",
    "kproto = KPrototypes(n_clusters= 4, verbose=2, max_iter= 20)\n",
    "clusters = kproto.fit_predict(df_array, categorical = [0,2,3,4,5,6,7,8,9,10,11,12,13,14,15,16,17,18,19,20,21])"
   ]
  },
  {
   "cell_type": "code",
   "execution_count": 18,
   "metadata": {},
   "outputs": [],
   "source": [
    "cluster_dict = []\n",
    "for c in clusters:\n",
    "    cluster_dict.append(c)"
   ]
  },
  {
   "cell_type": "code",
   "execution_count": 20,
   "metadata": {},
   "outputs": [
    {
     "data": {
      "text/plain": [
       "0    25\n",
       "2    22\n",
       "3    13\n",
       "1    13\n",
       "Name: cluster, dtype: int64"
      ]
     },
     "execution_count": 20,
     "metadata": {},
     "output_type": "execute_result"
    }
   ],
   "source": [
    "df['cluster'] = cluster_dict\n",
    "df['cluster'].value_counts()"
   ]
  },
  {
   "cell_type": "code",
   "execution_count": 21,
   "metadata": {},
   "outputs": [
    {
     "data": {
      "text/plain": [
       "<AxesSubplot:xlabel='cluster', ylabel='count'>"
      ]
     },
     "execution_count": 21,
     "metadata": {},
     "output_type": "execute_result"
    },
    {
     "data": {
      "image/png": "[encoded data removed]",
      "text/plain": [
       "<Figure size 1080x504 with 1 Axes>"
      ]
     },
     "metadata": {},
     "output_type": "display_data"
    }
   ],
   "source": [
    "sns.countplot(x='cluster', data=df)"
   ]
  },
  {
   "cell_type": "code",
   "execution_count": 22,
   "metadata": {},
   "outputs": [
    {
     "data": {
      "text/plain": [
       "Text(0.5, 0, 'Number of clusters')"
      ]
     },
     "execution_count": 22,
     "metadata": {},
     "output_type": "execute_result"
    },
    {
     "data": {
      "image/png": "[encoded data removed]",
      "text/plain": [
       "<Figure size 1080x504 with 1 Axes>"
      ]
     },
     "metadata": {},
     "output_type": "display_data"
    }
   ],
   "source": [
    "#Use the elbow method to find an optimum number of clusters\n",
    "cost = []\n",
    "for num_clusters in list(range(2,9)):\n",
    "    try:\n",
    "        kproto = KPrototypes(n_clusters=num_clusters, init='Cao')\n",
    "        kproto.fit_predict(df_array, categorical = [0,2,3,4,5,6,7,8,9,10,11,12,13,14,15,16,17,18,19,20,21])\n",
    "        cost.append(kproto.cost_)\n",
    "    except:\n",
    "        print(f\"Can't cluster with {num_clusters} clusters\")\n",
    "\n",
    "plt.plot(cost, marker ='o')\n",
    "plt.xlabel('Number of clusters')"
   ]
  },
  {
   "cell_type": "code",
   "execution_count": null,
   "metadata": {},
   "outputs": [],
   "source": []
  }
 ],
 "metadata": {
  "interpreter": {
   "hash": "8fac594bfae6525c0c41b4041d2d72effa188cc8ead05f81b1fab2bb098927fb"
  },
  "kernelspec": {
   "display_name": "Python 3.9.7 ('base')",
   "language": "python",
   "name": "python3"
  },
  "language_info": {
   "codemirror_mode": {
    "name": "ipython",
    "version": 3
   },
   "file_extension": ".py",
   "mimetype": "text/x-python",
   "name": "python",
   "nbconvert_exporter": "python",
   "pygments_lexer": "ipython3",
   "version": "3.9.7"
  },
  "orig_nbformat": 4
 },
 "nbformat": 4,
 "nbformat_minor": 2
}
