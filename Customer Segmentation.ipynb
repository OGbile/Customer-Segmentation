{
 "cells": [
  {
   "cell_type": "code",
   "execution_count": 231,
   "metadata": {},
   "outputs": [],
   "source": [
    "#import relevant libraries and set up nicely\n",
    "from urllib.request import urlretrieve\n",
    "import pandas as pd\n",
    "import matplotlib.pyplot as plt\n",
    "import seaborn as sns\n",
    "plt.rcParams[\"figure.figsize\"] = (15,7)\n",
    "plt.style.use('ggplot')"
   ]
  },
  {
   "cell_type": "code",
   "execution_count": 232,
   "metadata": {},
   "outputs": [
    {
     "data": {
      "text/html": [
       "<div>\n",
       "<style scoped>\n",
       "    .dataframe tbody tr th:only-of-type {\n",
       "        vertical-align: middle;\n",
       "    }\n",
       "\n",
       "    .dataframe tbody tr th {\n",
       "        vertical-align: top;\n",
       "    }\n",
       "\n",
       "    .dataframe thead th {\n",
       "        text-align: right;\n",
       "    }\n",
       "</style>\n",
       "<table border=\"1\" class=\"dataframe\">\n",
       "  <thead>\n",
       "    <tr style=\"text-align: right;\">\n",
       "      <th></th>\n",
       "      <th>sex</th>\n",
       "      <th>age</th>\n",
       "      <th>country</th>\n",
       "      <th>returning</th>\n",
       "      <th>GImg1</th>\n",
       "      <th>GImg2</th>\n",
       "      <th>GImg3</th>\n",
       "      <th>PImg1</th>\n",
       "      <th>PImg2</th>\n",
       "      <th>PImg3</th>\n",
       "      <th>...</th>\n",
       "      <th>Authoritative -anarchic</th>\n",
       "      <th>Hostile - friendly</th>\n",
       "      <th>TAudio1</th>\n",
       "      <th>TAudio2</th>\n",
       "      <th>TAudio3</th>\n",
       "      <th>QAudio1</th>\n",
       "      <th>QAudio2</th>\n",
       "      <th>QAudio3</th>\n",
       "      <th>Proxemics</th>\n",
       "      <th>Type of Client</th>\n",
       "    </tr>\n",
       "  </thead>\n",
       "  <tbody>\n",
       "    <tr>\n",
       "      <th>0</th>\n",
       "      <td>F</td>\n",
       "      <td>42</td>\n",
       "      <td>uruguay</td>\n",
       "      <td>no</td>\n",
       "      <td>likes</td>\n",
       "      <td>indiferent</td>\n",
       "      <td>indiferent</td>\n",
       "      <td>likes</td>\n",
       "      <td>likes</td>\n",
       "      <td>indiferent</td>\n",
       "      <td>...</td>\n",
       "      <td>8</td>\n",
       "      <td>3</td>\n",
       "      <td>C</td>\n",
       "      <td>dislikes</td>\n",
       "      <td>dislikes</td>\n",
       "      <td>indiferent</td>\n",
       "      <td>dislikes</td>\n",
       "      <td>dislikes</td>\n",
       "      <td>dislikes</td>\n",
       "      <td>0</td>\n",
       "    </tr>\n",
       "    <tr>\n",
       "      <th>1</th>\n",
       "      <td>M</td>\n",
       "      <td>60</td>\n",
       "      <td>brasil</td>\n",
       "      <td>no</td>\n",
       "      <td>likes</td>\n",
       "      <td>indiferent</td>\n",
       "      <td>indiferent</td>\n",
       "      <td>likes</td>\n",
       "      <td>likes</td>\n",
       "      <td>likes</td>\n",
       "      <td>...</td>\n",
       "      <td>9</td>\n",
       "      <td>1</td>\n",
       "      <td>B</td>\n",
       "      <td>dislikes</td>\n",
       "      <td>dislikes</td>\n",
       "      <td>likes</td>\n",
       "      <td>likes</td>\n",
       "      <td>dislikes</td>\n",
       "      <td>dislikes</td>\n",
       "      <td>0</td>\n",
       "    </tr>\n",
       "  </tbody>\n",
       "</table>\n",
       "<p>2 rows × 23 columns</p>\n",
       "</div>"
      ],
      "text/plain": [
       "  sex  age  country returning  GImg1       GImg2       GImg3  PImg1  PImg2  \\\n",
       "0   F   42  uruguay        no  likes  indiferent  indiferent  likes  likes   \n",
       "1   M   60   brasil        no  likes  indiferent  indiferent  likes  likes   \n",
       "\n",
       "        PImg3  ... Authoritative -anarchic  Hostile - friendly  TAudio1  \\\n",
       "0  indiferent  ...                        8                  3        C   \n",
       "1       likes  ...                        9                  1        B   \n",
       "\n",
       "    TAudio2   TAudio3     QAudio1   QAudio2   QAudio3 Proxemics Type of Client  \n",
       "0  dislikes  dislikes  indiferent  dislikes  dislikes  dislikes              0  \n",
       "1  dislikes  dislikes       likes     likes  dislikes  dislikes              0  \n",
       "\n",
       "[2 rows x 23 columns]"
      ]
     },
     "execution_count": 232,
     "metadata": {},
     "output_type": "execute_result"
    }
   ],
   "source": [
    "#Get the data from UCI\n",
    "url = 'https://archive.ics.uci.edu/ml/machine-learning-databases/00620/non-verbal%20tourist%20data.csv'\n",
    "urlretrieve(url, 'non-verbal%20tourist%20data.csv')\n",
    "df = pd.read_csv(url, sep =',')\n",
    "df.head(2)"
   ]
  },
  {
   "cell_type": "code",
   "execution_count": 233,
   "metadata": {},
   "outputs": [],
   "source": [
    "# Drop type of client as this is the result of the clustering\n",
    "df.drop(labels = 'Type of Client', axis = 1, inplace = True)"
   ]
  },
  {
   "cell_type": "code",
   "execution_count": 234,
   "metadata": {},
   "outputs": [],
   "source": [
    "# Change all non numeric datatypes to objects\n",
    "df[['Hostile - friendly', 'Tense - relaxed']] = df[['Tense - relaxed', 'Hostile - friendly']].astype('object')"
   ]
  },
  {
   "cell_type": "code",
   "execution_count": 235,
   "metadata": {},
   "outputs": [],
   "source": [
    "# Cleaning up weird things like '?'bor numbers that appear in categorical features\n",
    "df['GImg3'].replace('?', 'likes', inplace = True)\n",
    "df['PImg5'].replace('?', 'dislikes', inplace = True)\n",
    "df['Authoritative -anarchic '].replace('?', '1', inplace = True)"
   ]
  },
  {
   "cell_type": "code",
   "execution_count": 236,
   "metadata": {},
   "outputs": [],
   "source": [
    "#These two columns appear to have been mislabled\n",
    "df.rename(columns= {'TAudio1': 'Proxemics', 'Proxemics':'TAudio1'}, inplace= True)"
   ]
  },
  {
   "cell_type": "markdown",
   "metadata": {},
   "source": [
    "A little bit of EDA to catch anything interesting"
   ]
  },
  {
   "cell_type": "code",
   "execution_count": 237,
   "metadata": {},
   "outputs": [
    {
     "data": {
      "text/html": [
       "<div>\n",
       "<style scoped>\n",
       "    .dataframe tbody tr th:only-of-type {\n",
       "        vertical-align: middle;\n",
       "    }\n",
       "\n",
       "    .dataframe tbody tr th {\n",
       "        vertical-align: top;\n",
       "    }\n",
       "\n",
       "    .dataframe thead th {\n",
       "        text-align: right;\n",
       "    }\n",
       "</style>\n",
       "<table border=\"1\" class=\"dataframe\">\n",
       "  <thead>\n",
       "    <tr style=\"text-align: right;\">\n",
       "      <th></th>\n",
       "      <th>age</th>\n",
       "    </tr>\n",
       "  </thead>\n",
       "  <tbody>\n",
       "    <tr>\n",
       "      <th>count</th>\n",
       "      <td>73.000000</td>\n",
       "    </tr>\n",
       "    <tr>\n",
       "      <th>mean</th>\n",
       "      <td>47.260274</td>\n",
       "    </tr>\n",
       "    <tr>\n",
       "      <th>std</th>\n",
       "      <td>15.115323</td>\n",
       "    </tr>\n",
       "    <tr>\n",
       "      <th>min</th>\n",
       "      <td>24.000000</td>\n",
       "    </tr>\n",
       "    <tr>\n",
       "      <th>25%</th>\n",
       "      <td>36.000000</td>\n",
       "    </tr>\n",
       "    <tr>\n",
       "      <th>50%</th>\n",
       "      <td>47.000000</td>\n",
       "    </tr>\n",
       "    <tr>\n",
       "      <th>75%</th>\n",
       "      <td>56.000000</td>\n",
       "    </tr>\n",
       "    <tr>\n",
       "      <th>max</th>\n",
       "      <td>81.000000</td>\n",
       "    </tr>\n",
       "  </tbody>\n",
       "</table>\n",
       "</div>"
      ],
      "text/plain": [
       "             age\n",
       "count  73.000000\n",
       "mean   47.260274\n",
       "std    15.115323\n",
       "min    24.000000\n",
       "25%    36.000000\n",
       "50%    47.000000\n",
       "75%    56.000000\n",
       "max    81.000000"
      ]
     },
     "execution_count": 237,
     "metadata": {},
     "output_type": "execute_result"
    }
   ],
   "source": [
    "df.describe()"
   ]
  },
  {
   "cell_type": "markdown",
   "metadata": {},
   "source": [
    "Of the 73 respondents, the youngest is 24 and the oldest is 81. The average customer in this survey is 47 years old. Roughly 75% of the people who participated are about 56 years old"
   ]
  },
  {
   "cell_type": "code",
   "execution_count": 238,
   "metadata": {},
   "outputs": [
    {
     "data": {
      "text/plain": [
       "(array([ 0,  1,  2,  3,  4,  5,  6,  7,  8,  9, 10, 11, 12, 13, 14, 15]),\n",
       " [Text(0, 0, 'england'),\n",
       "  Text(1, 0, 'canada'),\n",
       "  Text(2, 0, 'germany'),\n",
       "  Text(3, 0, 'argentina'),\n",
       "  Text(4, 0, 'polish'),\n",
       "  Text(5, 0, 'scotland'),\n",
       "  Text(6, 0, 'italy'),\n",
       "  Text(7, 0, 'russia'),\n",
       "  Text(8, 0, 'spain'),\n",
       "  Text(9, 0, 'hungary'),\n",
       "  Text(10, 0, 'uruguay'),\n",
       "  Text(11, 0, 'brasil'),\n",
       "  Text(12, 0, 'colombia'),\n",
       "  Text(13, 0, 'chile'),\n",
       "  Text(14, 0, 'cuba'),\n",
       "  Text(15, 0, 'mexico')])"
      ]
     },
     "execution_count": 238,
     "metadata": {},
     "output_type": "execute_result"
    },
    {
     "data": {
      "image/png": "[encoded data removed]",
      "text/plain": [
       "<Figure size 1440x504 with 1 Axes>"
      ]
     },
     "metadata": {},
     "output_type": "display_data"
    }
   ],
   "source": [
    "plt.figure(figsize=(20, 7))\n",
    "df['country'].value_counts().plot(kind = 'bar',)\n",
    "plt.xticks(rotation =0, fontweight = 'bold', fontsize = 13)\n"
   ]
  },
  {
   "cell_type": "markdown",
   "metadata": {},
   "source": [
    "More people from England and Canada participated in the survey"
   ]
  },
  {
   "cell_type": "code",
   "execution_count": 239,
   "metadata": {},
   "outputs": [
    {
     "data": {
      "text/plain": [
       "(array([11.,  6., 13.,  6.,  8., 14.,  4.,  5.,  1.,  5.]),\n",
       " array([24. , 29.7, 35.4, 41.1, 46.8, 52.5, 58.2, 63.9, 69.6, 75.3, 81. ]),\n",
       " <BarContainer object of 10 artists>)"
      ]
     },
     "execution_count": 239,
     "metadata": {},
     "output_type": "execute_result"
    },
    {
     "data": {
      "image/png": "[encoded data removed]",
      "text/plain": [
       "<Figure size 1080x504 with 1 Axes>"
      ]
     },
     "metadata": {},
     "output_type": "display_data"
    }
   ],
   "source": [
    "plt.hist('age', data = df) "
   ]
  },
  {
   "cell_type": "code",
   "execution_count": 240,
   "metadata": {},
   "outputs": [
    {
     "data": {
      "text/plain": [
       "(array([0, 1]), [Text(0, 0, 'F'), Text(1, 0, 'M')])"
      ]
     },
     "execution_count": 240,
     "metadata": {},
     "output_type": "execute_result"
    },
    {
     "data": {
      "image/png": "[encoded data removed]",
      "text/plain": [
       "<Figure size 1080x504 with 1 Axes>"
      ]
     },
     "metadata": {},
     "output_type": "display_data"
    }
   ],
   "source": [
    "df['sex'].value_counts().plot(kind ='bar', color ='purple')\n",
    "plt.xticks(rotation =0, fontsize=14,fontweight='bold' )"
   ]
  },
  {
   "cell_type": "code",
   "execution_count": 241,
   "metadata": {},
   "outputs": [
    {
     "data": {
      "text/plain": [
       "(array([0, 1, 2]),\n",
       " [Text(0, 0, 'likes'), Text(1, 0, 'indiferent'), Text(2, 0, 'dislikes')])"
      ]
     },
     "execution_count": 241,
     "metadata": {},
     "output_type": "execute_result"
    },
    {
     "data": {
      "image/png": "[encoded data removed]",
      "text/plain": [
       "<Figure size 1080x504 with 1 Axes>"
      ]
     },
     "metadata": {},
     "output_type": "display_data"
    }
   ],
   "source": [
    "df['GImg1'].value_counts().plot(kind= 'bar')\n",
    "plt.xlabel(\"\\n Customers Attitudes to Hugs\", fontsize=14,fontweight='bold')\n",
    "plt.xticks(rotation = 0, fontsize=14,fontweight='bold')"
   ]
  },
  {
   "cell_type": "markdown",
   "metadata": {},
   "source": [
    "On to the main task- identifying different types of customers in the data using patterns aka customer segmentation\n",
    "###### The data has no label thus, this is a clustering and not a classification task. Clustering simply put is placing items with similar characteristics into buckets."
   ]
  },
  {
   "cell_type": "code",
   "execution_count": 242,
   "metadata": {},
   "outputs": [],
   "source": [
    "from kmodes.kprototypes import KPrototypes"
   ]
  },
  {
   "cell_type": "markdown",
   "metadata": {},
   "source": [
    "K-Prototypes is a clustering algorithim that reduces the overall data into cohorts, with each cohort having similar needs and preferences. The reason to use k-prototypes algorithm was that it can handle both numerical and categorical features simultaneously and the data has mostly categorical columns ."
   ]
  },
  {
   "cell_type": "code",
   "execution_count": 243,
   "metadata": {},
   "outputs": [],
   "source": [
    "#create an array of the features as kprototypes uses array as input data rather than a DataFrame\n",
    "df_array = df.values"
   ]
  },
  {
   "cell_type": "code",
   "execution_count": 244,
   "metadata": {},
   "outputs": [
    {
     "name": "stdout",
     "output_type": "stream",
     "text": [
      "Categorical columns           : ['sex', 'country', 'returning', 'GImg1', 'GImg2', 'GImg3', 'PImg1', 'PImg2', 'PImg3', 'PImg4', 'PImg5', 'Tense - relaxed', 'Authoritative -anarchic ', 'Hostile - friendly', 'Proxemics', 'TAudio2', 'TAudio3', 'QAudio1', 'QAudio2', 'QAudio3', 'TAudio1']\n",
      "Categorical columns position  : [0, 2, 3, 4, 5, 6, 7, 8, 9, 10, 11, 12, 13, 14, 15, 16, 17, 18, 19, 20, 21]\n"
     ]
    }
   ],
   "source": [
    "#Get the position of categorical columns\n",
    "catColumnsPos = [df.columns.get_loc(col) for col in list(df.select_dtypes('object').columns)]\n",
    "print('Categorical columns           : {}'.format(list(df.select_dtypes('object').columns)))\n",
    "print('Categorical columns position  : {}'.format(catColumnsPos))"
   ]
  },
  {
   "cell_type": "markdown",
   "metadata": {},
   "source": [
    "Use the Elbow method to determine the optimal number of clusters for K-Prototype clusters. Instead of calculating the within the sum of squares errors (WSSE) with Euclidian distance, K-Prototype provides the cost function that combines the calculation for numerical and categorical variables. We can look into the Elbow to determine the optimal number of clusters."
   ]
  },
  {
   "cell_type": "code",
   "execution_count": 245,
   "metadata": {},
   "outputs": [
    {
     "name": "stdout",
     "output_type": "stream",
     "text": [
      "Cluster initiation: 1\n",
      "Cluster initiation: 2\n",
      "Cluster initiation: 3\n",
      "Cluster initiation: 4\n",
      "Cluster initiation: 5\n",
      "Cluster initiation: 6\n",
      "Cluster initiation: 7\n",
      "Cluster initiation: 8\n",
      "Cluster initiation: 9\n"
     ]
    },
    {
     "data": {
      "text/plain": [
       "Text(0.5, 0, 'Number of clusters')"
      ]
     },
     "execution_count": 245,
     "metadata": {},
     "output_type": "execute_result"
    },
    {
     "data": {
      "image/png": "[encoded data removed]",
      "text/plain": [
       "<Figure size 1080x504 with 1 Axes>"
      ]
     },
     "metadata": {},
     "output_type": "display_data"
    }
   ],
   "source": [
    "cost =[]\n",
    "\n",
    "for cluster in range(1,10):\n",
    "    try:\n",
    "        KPrototype = KPrototypes(n_jobs= -1, n_clusters= cluster, init = 'Huang', random_state= 0)\n",
    "        KPrototype.fit_predict(df_array, categorical = catColumnsPos)\n",
    "        cost.append(KPrototype.cost_)\n",
    "        print('Cluster initiation: {}'.format(cluster))\n",
    "    except:\n",
    "        break\n",
    "plt.plot(cost, marker ='o')\n",
    "plt.xlabel('Number of clusters')"
   ]
  },
  {
   "cell_type": "markdown",
   "metadata": {},
   "source": [
    "According to the plot of cost function above, we consider choosing the number of cluster k = 3. It will be the optimal number of clusters for K-Prototype cluster analysis"
   ]
  },
  {
   "cell_type": "code",
   "execution_count": 246,
   "metadata": {},
   "outputs": [
    {
     "data": {
      "text/plain": [
       "array([0, 2, 0, 0, 0, 0, 1, 2, 0, 1, 0, 0, 0, 0, 2, 2, 2, 2, 1, 0, 2, 0,\n",
       "       2, 2, 2, 2, 2, 0, 1, 1, 2, 2, 1, 0, 0, 1, 1, 1, 2, 1, 1, 2, 0, 0,\n",
       "       1, 1, 2, 2, 0, 2, 0, 2, 2, 0, 0, 0, 0, 2, 2, 0, 0, 2, 0, 2, 2, 0,\n",
       "       0, 0, 0, 0, 2, 0, 0], dtype=uint16)"
      ]
     },
     "execution_count": 246,
     "metadata": {},
     "output_type": "execute_result"
    }
   ],
   "source": [
    "#Fit the clusters\n",
    "KPrototype = KPrototypes(n_jobs= -1, n_clusters= 3, random_state=0, init = 'Huang')\n",
    "KPrototype.fit_predict(df_array, categorical = catColumnsPos)"
   ]
  },
  {
   "cell_type": "code",
   "execution_count": 247,
   "metadata": {},
   "outputs": [
    {
     "name": "stdout",
     "output_type": "stream",
     "text": [
      "[['33.515151515151516' 'F' 'england' 'no' 'likes' 'likes' 'likes' 'likes'\n",
      "  'likes' 'likes' 'likes' 'dislikes' '1' '2' '1' 'C' 'dislikes'\n",
      "  'dislikes' 'likes' 'dislikes' 'dislikes' 'dislikes']\n",
      " ['70.61538461538461' 'M' 'england' 'yes' 'likes' 'likes' 'likes' 'likes'\n",
      "  'likes' 'likes' 'likes' 'dislikes' '1' '2' '1' 'A' 'dislikes'\n",
      "  'dislikes' 'likes' 'dislikes' 'dislikes' 'dislikes']\n",
      " ['52.81481481481482' 'F' 'canada' 'yes' 'likes' 'likes' 'likes' 'likes'\n",
      "  'likes' 'likes' 'likes' 'dislikes' '1' '4' '1' 'B' 'dislikes'\n",
      "  'dislikes' 'likes' 'dislikes' 'dislikes' 'dislikes']]\n",
      "3\n"
     ]
    },
    {
     "data": {
      "text/plain": [
       "6051.758185960931"
      ]
     },
     "execution_count": 247,
     "metadata": {},
     "output_type": "execute_result"
    }
   ],
   "source": [
    "\n",
    "# Cluster centorid\n",
    "print(KPrototype.cluster_centroids_)\n",
    "# Check the iteration of the clusters created\n",
    "print(KPrototype.n_iter_)\n",
    "# Check the cost of the clusters created\n",
    "KPrototype.cost_"
   ]
  },
  {
   "cell_type": "markdown",
   "metadata": {},
   "source": [
    "What do these clusters describe? The interpretation uses the centroids in each cluster. To do so, we need to append the cluster labels to the raw data and order the cluster labels which will be helpful to arrange the interpretation based on cluster labels."
   ]
  },
  {
   "cell_type": "code",
   "execution_count": 248,
   "metadata": {},
   "outputs": [],
   "source": [
    "df['Cluster'] = KPrototype.labels_\n",
    "df['Segment'] = df['Cluster'].map({0:'First', 1:'Second', 2:'Third'})\n",
    "\n",
    "#order the clusters\n",
    "df['Segment'] =df['Segment'].astype('category')\n",
    "df['Segment']= df['Segment'].cat.reorder_categories(['First', 'Second', 'Third'])"
   ]
  },
  {
   "cell_type": "code",
   "execution_count": 249,
   "metadata": {},
   "outputs": [
    {
     "data": {
      "text/html": [
       "<div>\n",
       "<style scoped>\n",
       "    .dataframe tbody tr th:only-of-type {\n",
       "        vertical-align: middle;\n",
       "    }\n",
       "\n",
       "    .dataframe tbody tr th {\n",
       "        vertical-align: top;\n",
       "    }\n",
       "\n",
       "    .dataframe thead th {\n",
       "        text-align: right;\n",
       "    }\n",
       "</style>\n",
       "<table border=\"1\" class=\"dataframe\">\n",
       "  <thead>\n",
       "    <tr style=\"text-align: right;\">\n",
       "      <th></th>\n",
       "      <th>sex</th>\n",
       "      <th>age</th>\n",
       "      <th>country</th>\n",
       "      <th>returning</th>\n",
       "      <th>GImg1</th>\n",
       "      <th>GImg2</th>\n",
       "      <th>GImg3</th>\n",
       "      <th>PImg1</th>\n",
       "      <th>PImg2</th>\n",
       "      <th>PImg3</th>\n",
       "      <th>...</th>\n",
       "      <th>Hostile - friendly</th>\n",
       "      <th>Proxemics</th>\n",
       "      <th>TAudio2</th>\n",
       "      <th>TAudio3</th>\n",
       "      <th>QAudio1</th>\n",
       "      <th>QAudio2</th>\n",
       "      <th>QAudio3</th>\n",
       "      <th>TAudio1</th>\n",
       "      <th>Cluster</th>\n",
       "      <th>Segment</th>\n",
       "    </tr>\n",
       "  </thead>\n",
       "  <tbody>\n",
       "    <tr>\n",
       "      <th>0</th>\n",
       "      <td>F</td>\n",
       "      <td>42</td>\n",
       "      <td>uruguay</td>\n",
       "      <td>no</td>\n",
       "      <td>likes</td>\n",
       "      <td>indiferent</td>\n",
       "      <td>indiferent</td>\n",
       "      <td>likes</td>\n",
       "      <td>likes</td>\n",
       "      <td>indiferent</td>\n",
       "      <td>...</td>\n",
       "      <td>4</td>\n",
       "      <td>C</td>\n",
       "      <td>dislikes</td>\n",
       "      <td>dislikes</td>\n",
       "      <td>indiferent</td>\n",
       "      <td>dislikes</td>\n",
       "      <td>dislikes</td>\n",
       "      <td>dislikes</td>\n",
       "      <td>0</td>\n",
       "      <td>First</td>\n",
       "    </tr>\n",
       "    <tr>\n",
       "      <th>1</th>\n",
       "      <td>M</td>\n",
       "      <td>60</td>\n",
       "      <td>brasil</td>\n",
       "      <td>no</td>\n",
       "      <td>likes</td>\n",
       "      <td>indiferent</td>\n",
       "      <td>indiferent</td>\n",
       "      <td>likes</td>\n",
       "      <td>likes</td>\n",
       "      <td>likes</td>\n",
       "      <td>...</td>\n",
       "      <td>2</td>\n",
       "      <td>B</td>\n",
       "      <td>dislikes</td>\n",
       "      <td>dislikes</td>\n",
       "      <td>likes</td>\n",
       "      <td>likes</td>\n",
       "      <td>dislikes</td>\n",
       "      <td>dislikes</td>\n",
       "      <td>2</td>\n",
       "      <td>Third</td>\n",
       "    </tr>\n",
       "    <tr>\n",
       "      <th>2</th>\n",
       "      <td>F</td>\n",
       "      <td>25</td>\n",
       "      <td>england</td>\n",
       "      <td>no</td>\n",
       "      <td>indiferent</td>\n",
       "      <td>indiferent</td>\n",
       "      <td>indiferent</td>\n",
       "      <td>likes</td>\n",
       "      <td>likes</td>\n",
       "      <td>indiferent</td>\n",
       "      <td>...</td>\n",
       "      <td>5</td>\n",
       "      <td>C</td>\n",
       "      <td>dislikes</td>\n",
       "      <td>dislikes</td>\n",
       "      <td>likes</td>\n",
       "      <td>dislikes</td>\n",
       "      <td>dislikes</td>\n",
       "      <td>dislikes</td>\n",
       "      <td>0</td>\n",
       "      <td>First</td>\n",
       "    </tr>\n",
       "    <tr>\n",
       "      <th>3</th>\n",
       "      <td>M</td>\n",
       "      <td>43</td>\n",
       "      <td>canada</td>\n",
       "      <td>no</td>\n",
       "      <td>likes</td>\n",
       "      <td>dislikes</td>\n",
       "      <td>dislikes</td>\n",
       "      <td>likes</td>\n",
       "      <td>likes</td>\n",
       "      <td>indiferent</td>\n",
       "      <td>...</td>\n",
       "      <td>3</td>\n",
       "      <td>C</td>\n",
       "      <td>dislikes</td>\n",
       "      <td>dislikes</td>\n",
       "      <td>likes</td>\n",
       "      <td>dislikes</td>\n",
       "      <td>indiferent</td>\n",
       "      <td>dislikes</td>\n",
       "      <td>0</td>\n",
       "      <td>First</td>\n",
       "    </tr>\n",
       "    <tr>\n",
       "      <th>4</th>\n",
       "      <td>M</td>\n",
       "      <td>30</td>\n",
       "      <td>hungary</td>\n",
       "      <td>no</td>\n",
       "      <td>indiferent</td>\n",
       "      <td>indiferent</td>\n",
       "      <td>indiferent</td>\n",
       "      <td>likes</td>\n",
       "      <td>likes</td>\n",
       "      <td>indiferent</td>\n",
       "      <td>...</td>\n",
       "      <td>3</td>\n",
       "      <td>C</td>\n",
       "      <td>dislikes</td>\n",
       "      <td>dislikes</td>\n",
       "      <td>likes</td>\n",
       "      <td>indiferent</td>\n",
       "      <td>dislikes</td>\n",
       "      <td>dislikes</td>\n",
       "      <td>0</td>\n",
       "      <td>First</td>\n",
       "    </tr>\n",
       "  </tbody>\n",
       "</table>\n",
       "<p>5 rows × 24 columns</p>\n",
       "</div>"
      ],
      "text/plain": [
       "  sex  age  country returning       GImg1       GImg2       GImg3  PImg1  \\\n",
       "0   F   42  uruguay        no       likes  indiferent  indiferent  likes   \n",
       "1   M   60   brasil        no       likes  indiferent  indiferent  likes   \n",
       "2   F   25  england        no  indiferent  indiferent  indiferent  likes   \n",
       "3   M   43   canada        no       likes    dislikes    dislikes  likes   \n",
       "4   M   30  hungary        no  indiferent  indiferent  indiferent  likes   \n",
       "\n",
       "   PImg2       PImg3  ... Hostile - friendly Proxemics   TAudio2   TAudio3  \\\n",
       "0  likes  indiferent  ...                  4         C  dislikes  dislikes   \n",
       "1  likes       likes  ...                  2         B  dislikes  dislikes   \n",
       "2  likes  indiferent  ...                  5         C  dislikes  dislikes   \n",
       "3  likes  indiferent  ...                  3         C  dislikes  dislikes   \n",
       "4  likes  indiferent  ...                  3         C  dislikes  dislikes   \n",
       "\n",
       "      QAudio1     QAudio2     QAudio3   TAudio1 Cluster Segment  \n",
       "0  indiferent    dislikes    dislikes  dislikes       0   First  \n",
       "1       likes       likes    dislikes  dislikes       2   Third  \n",
       "2       likes    dislikes    dislikes  dislikes       0   First  \n",
       "3       likes    dislikes  indiferent  dislikes       0   First  \n",
       "4       likes  indiferent    dislikes  dislikes       0   First  \n",
       "\n",
       "[5 rows x 24 columns]"
      ]
     },
     "execution_count": 249,
     "metadata": {},
     "output_type": "execute_result"
    }
   ],
   "source": [
    "df.head()"
   ]
  },
  {
   "cell_type": "markdown",
   "metadata": {},
   "source": [
    "To interpret the cluster, for the numerical variables, it will be using the average while the categorical using the mode. But there are other methods that can be implemented such as using median, percentile, or value composition for categorical variables."
   ]
  },
  {
   "cell_type": "code",
   "execution_count": 260,
   "metadata": {},
   "outputs": [
    {
     "data": {
      "text/html": [
       "<div>\n",
       "<style scoped>\n",
       "    .dataframe tbody tr th:only-of-type {\n",
       "        vertical-align: middle;\n",
       "    }\n",
       "\n",
       "    .dataframe tbody tr th {\n",
       "        vertical-align: top;\n",
       "    }\n",
       "\n",
       "    .dataframe thead th {\n",
       "        text-align: right;\n",
       "    }\n",
       "</style>\n",
       "<table border=\"1\" class=\"dataframe\">\n",
       "  <thead>\n",
       "    <tr style=\"text-align: right;\">\n",
       "      <th>Segment</th>\n",
       "      <th>First</th>\n",
       "      <th>Second</th>\n",
       "      <th>Third</th>\n",
       "    </tr>\n",
       "  </thead>\n",
       "  <tbody>\n",
       "    <tr>\n",
       "      <th>Total</th>\n",
       "      <td>33</td>\n",
       "      <td>13</td>\n",
       "      <td>27</td>\n",
       "    </tr>\n",
       "    <tr>\n",
       "      <th>age</th>\n",
       "      <td>34.0</td>\n",
       "      <td>67.0</td>\n",
       "      <td>53.0</td>\n",
       "    </tr>\n",
       "    <tr>\n",
       "      <th>country</th>\n",
       "      <td>england</td>\n",
       "      <td>canada</td>\n",
       "      <td>canada</td>\n",
       "    </tr>\n",
       "    <tr>\n",
       "      <th>returning</th>\n",
       "      <td>no</td>\n",
       "      <td>yes</td>\n",
       "      <td>yes</td>\n",
       "    </tr>\n",
       "    <tr>\n",
       "      <th>GImg1</th>\n",
       "      <td>likes</td>\n",
       "      <td>likes</td>\n",
       "      <td>likes</td>\n",
       "    </tr>\n",
       "    <tr>\n",
       "      <th>GImg2</th>\n",
       "      <td>likes</td>\n",
       "      <td>likes</td>\n",
       "      <td>likes</td>\n",
       "    </tr>\n",
       "    <tr>\n",
       "      <th>GImg3</th>\n",
       "      <td>likes</td>\n",
       "      <td>likes</td>\n",
       "      <td>likes</td>\n",
       "    </tr>\n",
       "    <tr>\n",
       "      <th>PImg1</th>\n",
       "      <td>likes</td>\n",
       "      <td>likes</td>\n",
       "      <td>likes</td>\n",
       "    </tr>\n",
       "    <tr>\n",
       "      <th>TAudio1</th>\n",
       "      <td>dislikes</td>\n",
       "      <td>dislikes</td>\n",
       "      <td>dislikes</td>\n",
       "    </tr>\n",
       "    <tr>\n",
       "      <th>TAudio2</th>\n",
       "      <td>dislikes</td>\n",
       "      <td>dislikes</td>\n",
       "      <td>dislikes</td>\n",
       "    </tr>\n",
       "    <tr>\n",
       "      <th>TAudio3</th>\n",
       "      <td>dislikes</td>\n",
       "      <td>dislikes</td>\n",
       "      <td>dislikes</td>\n",
       "    </tr>\n",
       "    <tr>\n",
       "      <th>QAudio1</th>\n",
       "      <td>likes</td>\n",
       "      <td>likes</td>\n",
       "      <td>likes</td>\n",
       "    </tr>\n",
       "    <tr>\n",
       "      <th>QAudio2</th>\n",
       "      <td>dislikes</td>\n",
       "      <td>dislikes</td>\n",
       "      <td>dislikes</td>\n",
       "    </tr>\n",
       "    <tr>\n",
       "      <th>QAudio3</th>\n",
       "      <td>dislikes</td>\n",
       "      <td>dislikes</td>\n",
       "      <td>dislikes</td>\n",
       "    </tr>\n",
       "    <tr>\n",
       "      <th>Hostile - friendly</th>\n",
       "      <td>1</td>\n",
       "      <td>1</td>\n",
       "      <td>1</td>\n",
       "    </tr>\n",
       "    <tr>\n",
       "      <th>Tense - relaxed</th>\n",
       "      <td>1</td>\n",
       "      <td>1</td>\n",
       "      <td>1</td>\n",
       "    </tr>\n",
       "    <tr>\n",
       "      <th>Proxemics</th>\n",
       "      <td>C</td>\n",
       "      <td>A</td>\n",
       "      <td>B</td>\n",
       "    </tr>\n",
       "    <tr>\n",
       "      <th>Authoritative -anarchic</th>\n",
       "      <td>2</td>\n",
       "      <td>6</td>\n",
       "      <td>9</td>\n",
       "    </tr>\n",
       "  </tbody>\n",
       "</table>\n",
       "</div>"
      ],
      "text/plain": [
       "Segment                      First    Second     Third\n",
       "Total                           33        13        27\n",
       "age                           34.0      67.0      53.0\n",
       "country                    england    canada    canada\n",
       "returning                       no       yes       yes\n",
       "GImg1                        likes     likes     likes\n",
       "GImg2                        likes     likes     likes\n",
       "GImg3                        likes     likes     likes\n",
       "PImg1                        likes     likes     likes\n",
       "TAudio1                   dislikes  dislikes  dislikes\n",
       "TAudio2                   dislikes  dislikes  dislikes\n",
       "TAudio3                   dislikes  dislikes  dislikes\n",
       "QAudio1                      likes     likes     likes\n",
       "QAudio2                   dislikes  dislikes  dislikes\n",
       "QAudio3                   dislikes  dislikes  dislikes\n",
       "Hostile - friendly               1         1         1\n",
       "Tense - relaxed                  1         1         1\n",
       "Proxemics                        C         A         B\n",
       "Authoritative -anarchic          2         6         9"
      ]
     },
     "execution_count": 260,
     "metadata": {},
     "output_type": "execute_result"
    }
   ],
   "source": [
    "df.rename(columns = {'Cluster': 'Total'}, inplace = True)\n",
    "df.groupby('Segment').agg(\n",
    "    {\n",
    "        'Total': 'count',\n",
    "        'age': 'median',\n",
    "        'country': lambda x: x.value_counts().index[0],\n",
    "        'returning': lambda x: x.value_counts().index[0],\n",
    "        'GImg1':lambda x: x.value_counts().index[0],\n",
    "        'GImg2': lambda x: x.value_counts().index[0],\n",
    "        'GImg3': lambda x: x.value_counts().index[0],\n",
    "        'PImg1': lambda x: x.value_counts().index[0],\n",
    "        'TAudio1': lambda x: x.value_counts().index[0], \n",
    "        'TAudio2': lambda x: x.value_counts().index[0],\n",
    "       'TAudio3': lambda x: x.value_counts().index[0],\n",
    "       'QAudio1':lambda x: x.value_counts().index[0],\n",
    "        'QAudio2':lambda x: x.value_counts().index[0],\n",
    "         'QAudio3':lambda x: x.value_counts().index[0],\n",
    "         'Hostile - friendly': lambda x: x.value_counts().index[0],\n",
    "        'Tense - relaxed': lambda x: x.value_counts().index[0],\n",
    "        'Proxemics': lambda x: x.value_counts().index[0],\n",
    "        'Authoritative -anarchic ': lambda x: x.value_counts().index[0]\n",
    "        }).T"
   ]
  },
  {
   "cell_type": "markdown",
   "metadata": {},
   "source": [
    "##### 1. Qaudio1 (spitting): It appears all the cohorts spit to express themselves \n",
    "##### 2. TAudio1 (authoritative tones): they all dislike it\n",
    "##### 3. In terms of proximity (Proxemics), the first segment would rather maintain a socially acceptable amount of distance, the second segment prefers intimate treatment  and the third like to maintain distance of at least an arm's length \n",
    "##### 4. Looking at the observed emotional clime (Authoritative -anarchic) of the cohort, segments 1 and 2 respect order, segment 3 would most likely flout rules or prefer unconventional interactions"
   ]
  }
 ],
 "metadata": {
  "interpreter": {
   "hash": "8fac594bfae6525c0c41b4041d2d72effa188cc8ead05f81b1fab2bb098927fb"
  },
  "kernelspec": {
   "display_name": "Python 3.9.7 ('base')",
   "language": "python",
   "name": "python3"
  },
  "language_info": {
   "codemirror_mode": {
    "name": "ipython",
    "version": 3
   },
   "file_extension": ".py",
   "mimetype": "text/x-python",
   "name": "python",
   "nbconvert_exporter": "python",
   "pygments_lexer": "ipython3",
   "version": "3.9.7"
  },
  "orig_nbformat": 4
 },
 "nbformat": 4,
 "nbformat_minor": 2
}
